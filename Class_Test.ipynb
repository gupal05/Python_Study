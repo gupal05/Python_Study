{
 "cells": [
  {
   "cell_type": "code",
   "execution_count": 10,
   "metadata": {},
   "outputs": [
    {
     "name": "stdout",
     "output_type": "stream",
     "text": [
      "2020 Ford Mustang\n"
     ]
    }
   ],
   "source": [
    "# 문제: Car 클래스를 정의하세요. 클래스는 make, model, year 속성을 가지고 있으며, get_info() 메서드는 자동차의 정보를 출력합니다.\n",
    "class Car:\n",
    "    def __init__(self, make, model, year):\n",
    "        self.make = make\n",
    "        self.model = model\n",
    "        self.year = year\n",
    "    \n",
    "    def get_info(self):\n",
    "        return f\"{self.year} {self.make} {self.model}\"\n",
    "        \n",
    "car = Car('Ford', 'Mustang', 2020)\n",
    "print(car.get_info())\n",
    "#해설\n",
    "#__init__ 메서드는 클래스의 생성자로, 객체가 생성될 때 make, model, year 속성을 초기화합니다.\n",
    "#get_info() 메서드는 자동차의 정보를 출력하는 함수입니다"
   ]
  },
  {
   "cell_type": "code",
   "execution_count": 12,
   "metadata": {},
   "outputs": [
    {
     "name": "stdout",
     "output_type": "stream",
     "text": [
      "2500\n",
      "200\n"
     ]
    }
   ],
   "source": [
    "# 문제: Rectangle 클래스를 정의하세요. 클래스는 width와 height 속성을 가지고 있으며, area() 메서드는 직사각형의 넓이를, perimeter() 메서드는 직사각형의 둘레를 반환합니다.\n",
    "class Rectangle:\n",
    "    def __init__(self, width, height):\n",
    "        self.width = width\n",
    "        self.height = height\n",
    "    \n",
    "    def area(self):\n",
    "        return self.width * self.height\n",
    "    \n",
    "    def perimeter(self):\n",
    "        return (self.width + self.height) * 2\n",
    "    \n",
    "re = Rectangle(50, 50)\n",
    "print(re.area())\n",
    "print(re.perimeter())\n",
    "#해설\n",
    "#__init__ 메서드를 사용하여 width와 height 속성을 초기화합니다.\n",
    "#area() 메서드는 직사각형의 넓이를 계산하고 반환합니다.\n",
    "#perimeter() 메서드는 직사각형의 둘레를 계산하여 반환합니다."
   ]
  },
  {
   "cell_type": "code",
   "execution_count": 17,
   "metadata": {},
   "outputs": [
    {
     "name": "stdout",
     "output_type": "stream",
     "text": [
      "안녕하세요, 제 이름은 asd이고, 나이는 123입니다.\n"
     ]
    }
   ],
   "source": [
    "# 문제: Person 클래스를 작성하세요. 클래스는 name과 age 속성을 받아서 초기화하며, greet() 메서드는 \"안녕하세요, 제 이름은 [이름]이고, 나이는 [나이]입니다.\"라고 출력합니다.\n",
    "class Person:\n",
    "    def __init__(self, name, age):\n",
    "        self.name = name\n",
    "        self.age = age\n",
    "    \n",
    "    def greet(self):\n",
    "        print(f\"안녕하세요, 제 이름은 {self.name}이고, 나이는 {self.age}입니다.\")\n",
    "\n",
    "person = Person(input(), int(input()))\n",
    "person.greet()\n",
    "#해설\n",
    "#__init__ 메서드는 name과 age 속성을 초기화합니다.\n",
    "#greet() 메서드는 객체의 name과 age를 사용하여 인사말을 반환합니다."
   ]
  },
  {
   "cell_type": "code",
   "execution_count": 21,
   "metadata": {},
   "outputs": [
    {
     "name": "stdout",
     "output_type": "stream",
     "text": [
      "나는 포유류 입니다.\n",
      "나는 강아지입니다.\n"
     ]
    }
   ],
   "source": [
    "# 문제: Animal 클래스는 name과 species 속성을 가지고 있으며, speak() 메서드는 \"나는 [species]입니다.\"라고 출력합니다. 이를 상속받은 Dog 클래스는 speak() 메서드를 오버라이드하여 \"나는 개입니다.\"라고 출력합니다.\n",
    "class Animal:\n",
    "    def __init__(self, name, species):\n",
    "        self.name = name\n",
    "        self.species = species\n",
    "    \n",
    "    def speak(self):\n",
    "        return f\"나는 {self.species} 입니다.\"\n",
    "    \n",
    "class Dog(Animal):\n",
    "    def speak(self):\n",
    "        return f\"나는 {self.name}입니다.\"\n",
    "    \n",
    "animal = Animal(\"동물\", \"포유류\")\n",
    "dog = Dog(\"강아지\", \"개\")\n",
    "\n",
    "print(animal.speak())\n",
    "print(dog.speak())\n",
    "#해설\n",
    "#Animal 클래스는 기본적으로 name과 species를 초기화하고, speak() 메서드를 정의합니다.\n",
    "#Dog 클래스는 Animal 클래스를 상속받아 speak() 메서드를 오버라이드하여 \"나는 개입니다.\"라고 출력합니다."
   ]
  },
  {
   "cell_type": "code",
   "execution_count": 24,
   "metadata": {},
   "outputs": [
    {
     "name": "stdout",
     "output_type": "stream",
     "text": [
      "2\n"
     ]
    }
   ],
   "source": [
    "# 문제: Book 클래스는 title과 author 속성을 가지고 있으며, book_count라는 클래스 변수를 사용하여 생성된 Book 객체의 개수를 추적합니다. get_book_count() 메서드는 생성된 책의 수를 반환합니다.\n",
    "class Book:\n",
    "    book_count = 0 # 클래스 변수\n",
    "    def __init__(self, title, author):\n",
    "        self.title = title\n",
    "        self.author = author\n",
    "        Book.book_count += 1 # 책 생성마다 +1\n",
    "    \n",
    "    @classmethod    # 클래스 변수에 접근 하거나 클래스 자체에 영향을 미치는 메서드를 정의할 때 사용\n",
    "    def get_book_count(self):\n",
    "        return self.book_count\n",
    "\n",
    "book1 = Book(\"책1\", \"저자1\")\n",
    "book2 = Book(\"책2\", \"저자2\")\n",
    "\n",
    "print(Book.get_book_count())\n",
    "#해설\n",
    "#book_count는 클래스 변수로, 클래스의 모든 인스턴스가 공유하는 변수입니다.\n",
    "#책이 생성될 때마다 Book.book_count가 1씩 증가하며, get_book_count() 메서드는 클래스 메서드로 book_count 값을 반환합니다."
   ]
  }
 ],
 "metadata": {
  "kernelspec": {
   "display_name": ".venv",
   "language": "python",
   "name": "python3"
  },
  "language_info": {
   "codemirror_mode": {
    "name": "ipython",
    "version": 3
   },
   "file_extension": ".py",
   "mimetype": "text/x-python",
   "name": "python",
   "nbconvert_exporter": "python",
   "pygments_lexer": "ipython3",
   "version": "3.12.8"
  }
 },
 "nbformat": 4,
 "nbformat_minor": 2
}
