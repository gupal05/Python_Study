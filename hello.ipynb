{
 "cells": [
  {
   "cell_type": "code",
   "execution_count": 44,
   "metadata": {},
   "outputs": [
    {
     "name": "stdout",
     "output_type": "stream",
     "text": [
      "10 -20\n"
     ]
    }
   ],
   "source": [
    "# 정수형 출력\n",
    "num1 = 10\n",
    "num2 = -20\n",
    "num3 = 50\n",
    "print(num1, num2)"
   ]
  },
  {
   "cell_type": "code",
   "execution_count": 45,
   "metadata": {},
   "outputs": [
    {
     "name": "stdout",
     "output_type": "stream",
     "text": [
      "3.14 -2.718\n"
     ]
    }
   ],
   "source": [
    "# 실수형 출력\n",
    "num1 = 3.14\n",
    "num2 = -2.718\n",
    "print(num1, num2)"
   ]
  },
  {
   "cell_type": "code",
   "execution_count": 48,
   "metadata": {},
   "outputs": [
    {
     "name": "stdout",
     "output_type": "stream",
     "text": [
      "Hello Python\n"
     ]
    }
   ],
   "source": [
    "# 문자열 생성, 출력 (파이썬은 '' or \"\" 상관x)\n",
    "str1 = 'Hello'\n",
    "str2 = \"Python\"\n",
    "print(str1, str2)"
   ]
  },
  {
   "cell_type": "code",
   "execution_count": 47,
   "metadata": {},
   "outputs": [
    {
     "name": "stdout",
     "output_type": "stream",
     "text": [
      "P\n",
      "n\n"
     ]
    }
   ],
   "source": [
    "# 멀티라인 문자열 출력 (''' or \"\"\" 상관x)\n",
    "str3 = \"\"\"This is\n",
    "a multi-line\n",
    "string\"\"\"\n",
    "print(str3)"
   ]
  },
  {
   "cell_type": "code",
   "execution_count": 49,
   "metadata": {},
   "outputs": [
    {
     "name": "stdout",
     "output_type": "stream",
     "text": [
      "P\n",
      "n\n"
     ]
    }
   ],
   "source": [
    "# 인덱싱\n",
    "text = \"Python\"\n",
    "print(text[0])\n",
    "print(text[-1]) # -1 : 맨 뒤 숫자"
   ]
  },
  {
   "cell_type": "code",
   "execution_count": 161,
   "metadata": {},
   "outputs": [
    {
     "name": "stdout",
     "output_type": "stream",
     "text": [
      "yth\n",
      "Ph\n"
     ]
    }
   ],
   "source": [
    "# 슬라이싱\n",
    "text = \"Python\"\n",
    "print(text[1:4]) # n번 글자 ~ 처음부터 n-1번 까지의 글자\n",
    "print(text[::3]) # ::첫번째 ~ n번 건너 뛴"
   ]
  },
  {
   "cell_type": "code",
   "execution_count": 62,
   "metadata": {},
   "outputs": [
    {
     "name": "stdout",
     "output_type": "stream",
     "text": [
      "PYTHON\n",
      "python\n"
     ]
    }
   ],
   "source": [
    "# 메서드(문자 변환)\n",
    "text = \"Python\"\n",
    "print(text.upper())\n",
    "print(text.lower())"
   ]
  },
  {
   "cell_type": "code",
   "execution_count": 68,
   "metadata": {},
   "outputs": [
    {
     "name": "stdout",
     "output_type": "stream",
     "text": [
      "1\n",
      "2\n"
     ]
    }
   ],
   "source": [
    "# 메서드(문자 찾기)\n",
    "text = \"banana\"\n",
    "print(text.find('a')) # 첫번째로 등장하는 a의 위치 (b를 입력 할 경우 0)\n",
    "print(text.count('n')) # 입력한 글자의 갯수 확인"
   ]
  },
  {
   "cell_type": "code",
   "execution_count": 74,
   "metadata": {},
   "outputs": [
    {
     "name": "stdout",
     "output_type": "stream",
     "text": [
      "Hello World\n",
      "Hello World \n",
      " Hello World\n"
     ]
    }
   ],
   "source": [
    "# 메서드(공백 제거)\n",
    "text = ' Hello World '\n",
    "print(text.strip()) # 양쪽 끝에 있는 공백 제거\n",
    "print(text.lstrip()) # 왼쪽 끝에 있는 공백 제거\n",
    "print(text.rstrip()) # 오른쪽 끝에 있는 공백 제거"
   ]
  },
  {
   "cell_type": "code",
   "execution_count": 81,
   "metadata": {},
   "outputs": [
    {
     "name": "stdout",
     "output_type": "stream",
     "text": [
      "['Python', 'is', 'fun']\n",
      "Python is fun\n"
     ]
    }
   ],
   "source": [
    "# 메서드(문자열 결합 및 분할)\n",
    "text = 'Python is fun'\n",
    "words = text.split() # 공백 기준으로 나눠 리스트에 저장\n",
    "print(words)\n",
    "joined_text = ' '.join(words) # 앞에 입력한 공백을 리스트 값 사이에 넣어서 변환\n",
    "print(joined_text)"
   ]
  },
  {
   "cell_type": "code",
   "execution_count": 87,
   "metadata": {},
   "outputs": [
    {
     "name": "stdout",
     "output_type": "stream",
     "text": [
      "My name is Alice and I am 30 years old.\n",
      "My name is Alice and I am 30 years old.\n"
     ]
    }
   ],
   "source": [
    "# 포맷팅\n",
    "name = 'Alice'\n",
    "age = 30\n",
    "print(f'My name is {name} and I am {age} years old.')\n",
    "print('My name is', name, 'and I am', age, 'years old.')"
   ]
  },
  {
   "cell_type": "code",
   "execution_count": 94,
   "metadata": {},
   "outputs": [
    {
     "name": "stdout",
     "output_type": "stream",
     "text": [
      "Hello\n",
      "Python\n",
      "탭을\t사용한\t예시\n",
      "백슬래시는 이렇게 \\ 출력\n"
     ]
    }
   ],
   "source": [
    "# 특수문자\n",
    "print('Hello\\nPython') # \\n : 줄바꿈\n",
    "print('탭을\\t사용한\\t예시') # \\t : 탭 입력\n",
    "print('백슬래시는 이렇게 \\\\ 출력')"
   ]
  },
  {
   "cell_type": "code",
   "execution_count": 96,
   "metadata": {},
   "outputs": [
    {
     "name": "stdout",
     "output_type": "stream",
     "text": [
      "False\n",
      "True\n",
      "False\n"
     ]
    }
   ],
   "source": [
    "# boolean\n",
    "a = True\n",
    "b = False\n",
    "print(a and b) # and : 두 조건이 모두 true일 때 true\n",
    "print(a or b) # or : 둘 중 하나라고 true일 경우 true\n",
    "print(not a) # java : !true"
   ]
  },
  {
   "cell_type": "code",
   "execution_count": 98,
   "metadata": {},
   "outputs": [
    {
     "name": "stdout",
     "output_type": "stream",
     "text": [
      "접근 거부\n"
     ]
    }
   ],
   "source": [
    "# boolean 활용 예제\n",
    "is_authenticated = True\n",
    "has_permission = False\n",
    "if is_authenticated and has_permission:\n",
    "    print(\"접근 허용\")\n",
    "else:\n",
    "    print(\"접근 거부\")"
   ]
  },
  {
   "cell_type": "code",
   "execution_count": 100,
   "metadata": {},
   "outputs": [
    {
     "name": "stdout",
     "output_type": "stream",
     "text": [
      "[]\n",
      "[1, 2, 3, 4, 5]\n"
     ]
    }
   ],
   "source": [
    "# 리스트 생성과 초기화\n",
    "empty_list = [] # 빈 리스트 생성\n",
    "numbers = [1, 2, 3, 4, 5] # 초기값 설정\n",
    "print(empty_list)\n",
    "print(numbers)"
   ]
  },
  {
   "cell_type": "code",
   "execution_count": 112,
   "metadata": {},
   "outputs": [
    {
     "name": "stdout",
     "output_type": "stream",
     "text": [
      "apple\n",
      "['apple', 'cherry']\n"
     ]
    }
   ],
   "source": [
    "# 리스트 인덱스 접근 및 슬라이싱\n",
    "fruits = [\"apple\", \"banana\", \"cherry\"]\n",
    "print(fruits[0]) # 0번 배열에 있는 값 출력\n",
    "print(fruits[0:2]) # n1번 배열에 있는 값 ~ n2번째 자리에 있는 값 출력"
   ]
  },
  {
   "cell_type": "code",
   "execution_count": 141,
   "metadata": {},
   "outputs": [
    {
     "name": "stdout",
     "output_type": "stream",
     "text": [
      "[3, 1, 4, 1, 5, 9]\n",
      "[1, 1, 3, 4, 5, 9]\n",
      "[1, 3, 4, 5, 9]\n",
      "[1, 3, 5, 9]\n",
      "4\n",
      "[9, 5, 3, 1]\n",
      "1\n",
      "[9, 5, 3, 1]\n",
      "[9, 5, 3, 1, 6, 7, 8]\n",
      "[9, 5, 3, 1, 6, 7, 8, 10, 11, 12]\n"
     ]
    }
   ],
   "source": [
    "# 리스트 활용 예제\n",
    "\n",
    "#요소 추가\n",
    "numbers = [3, 1, 4, 1, 5]\n",
    "numbers.append(9) # 배열의 끝자리에 값 삽입\n",
    "print(numbers) # 주피터노트북에선 굳이 print를 안 해도 출력이 됨\n",
    "\n",
    "#요소 정렬\n",
    "numbers.sort()\n",
    "print(numbers)\n",
    "\n",
    "#요소 제거\n",
    "numbers.remove(1) # 첫번째로 발견되는 입력값 삭제\n",
    "print(numbers)\n",
    "\n",
    "#특정 위치의 요소 추출 및 삭제\n",
    "removed_item = numbers.pop(2) # 입력한 인덱스의 배열을 삭제 ex) 2 = 2번 배열\n",
    "print(numbers)\n",
    "print(removed_item) # pop으로 인해 제거된 값\n",
    "\n",
    "#리스트 뒤집기\n",
    "numbers.reverse() # 말 배열 그대로 뒤집기\n",
    "print(numbers)\n",
    "\n",
    "#리스트 요소 개수 세기\n",
    "count = numbers.count(5)\n",
    "print(count)\n",
    "\n",
    "#리스트 복사\n",
    "new_numbers = numbers.copy() #copy를 사용 안 하고 new_numbers = numbers를 하게 되면 new_numbers의\n",
    "print(new_numbers)           #값이 변하면 numbers도 바뀌고 copy를 사용하면 서로 아예 다른\n",
    "\n",
    "#리스트 확장\n",
    "numbers.extend([6, 7, 8]) #여러개의 값과 인덱스 append\n",
    "print(numbers)\n",
    "\n",
    "#리스트 합치기\n",
    "another_list = [10, 11, 12]\n",
    "combined_list = numbers + another_list # 그냥 합치기\n",
    "print(combined_list)"
   ]
  },
  {
   "cell_type": "code",
   "execution_count": 146,
   "metadata": {},
   "outputs": [
    {
     "name": "stdout",
     "output_type": "stream",
     "text": [
      "green\n",
      "('red', 'green')\n"
     ]
    }
   ],
   "source": [
    "# 튜플 (튜플은 값 변환 X)\n",
    "empty_tuple = () # 빈 튜플 생성\n",
    "single_element = (5,) # 단일 요소일 때는 콤마 필요....!(콤마를 안 찍을 경우\n",
    "                      # type이 tuple이 아니라 int로 인식 됨)\n",
    "#튜플 요소 접근 및 슬라이싱\n",
    "colors = ('red', 'green', 'blue')\n",
    "print(colors[1]) # 인덱스로 접근\n",
    "print(colors[0:2]) # n1번 배열에 있는 값 ~ n2번째 자리에 있는 값 출력"
   ]
  },
  {
   "cell_type": "code",
   "execution_count": 152,
   "metadata": {},
   "outputs": [
    {
     "name": "stdout",
     "output_type": "stream",
     "text": [
      "2\n",
      "2\n",
      "x 좌표 : 3\n",
      "y 좌표 : 4\n"
     ]
    }
   ],
   "source": [
    "#튜플 활용 예제\n",
    "tup_num = (1, 2, 3, 2, 4)\n",
    "print(tup_num.count(2)) # 입력한 값의 갯수\n",
    "print(tup_num.index(3)) # 입력한 값의 인덱스\n",
    "\n",
    "# Ex)\n",
    "point = (3, 4)\n",
    "print(\"x 좌표 :\", point[0])\n",
    "print(f\"y 좌표 : {point[1]}\")"
   ]
  },
  {
   "cell_type": "code",
   "execution_count": 155,
   "metadata": {},
   "outputs": [
    {
     "name": "stdout",
     "output_type": "stream",
     "text": [
      "Bob\n",
      "31\n"
     ]
    }
   ],
   "source": [
    "#딕셔너리 (key:value 형태)\n",
    "empty_dic = {} # 빈 딕셔너리 생성\n",
    "person = {\"name\":\"Bob\", \"age\":30, \"city\":\"New York\"} # 딕셔너리 초기값 설정\n",
    "\n",
    "print(person[\"name\"]) # 키를 통해 값에 접근\n",
    "\n",
    "person[\"age\"] = 31 # 키를 통해 value 수정\n",
    "print(person[\"age\"])"
   ]
  },
  {
   "cell_type": "code",
   "execution_count": 162,
   "metadata": {},
   "outputs": [
    {
     "name": "stdout",
     "output_type": "stream",
     "text": [
      "Charlie\n",
      "dict_keys(['name', 'age'])\n",
      "dict_values(['Charlie', 22])\n",
      "dict_items([('name', 'Charlie'), ('age', 22)])\n"
     ]
    }
   ],
   "source": [
    "#딕셔너리 활용 예제\n",
    "info = {\"name\":\"Charlie\", \"age\":22}\n",
    "print(info.get(\"name\")) # key에 대응하는 값 반환\n",
    "\n",
    "print(info.keys()) # 모든 key 반환\n",
    "print(info.values()) # 모든 values 반환\n",
    "print(info.items()) # 모든 key:value를 튜플 형태로 반환"
   ]
  },
  {
   "cell_type": "code",
   "execution_count": 190,
   "metadata": {},
   "outputs": [
    {
     "name": "stdout",
     "output_type": "stream",
     "text": [
      "19\n",
      "11\n",
      "60\n",
      "3 3\n",
      "3.75\n",
      "Hello, Python!\n",
      "5\n",
      "둘 다\n",
      "y\n",
      "7 5\n",
      "[7, 2, 9, 4, 5, 8]\n",
      "['banana', 'cherry']\n",
      "이름 : John 나이 : 25\n",
      "['John', 25, 'Engineer']\n",
      "25\n",
      "{'John': 30, 'Alice': 25, 'Bob': 20, 'David': 23}\n",
      "dict_keys(['John', 'Alice', 'Bob', 'David'])\n"
     ]
    }
   ],
   "source": [
    "#GPT 문제\n",
    "# 문제 1) 두 숫자 a = 15와 b = 4가 주어질 때, 다음 연산을 각각 수행하고 결과를 출력하세요\n",
    "a = 15\n",
    "b = 4\n",
    "print(a + b) #덧셈\n",
    "print(a - b) #뺄셈\n",
    "print(a * b) #곱셈\n",
    "print(a // b, a % b) #나눗셈(몫과 나머지 모두 출력)\n",
    "print(round(a / b, 2)) #나누기 결과의 소수점 이하 두 자릿수까지 출력\n",
    "\n",
    "# 문제 2_1) 문자열 message = \"Hello, World!\"에서 World라는 단어를 Python으로 바꿔서 출력하세요.\n",
    "message = 'Hello, World!'\n",
    "rep = message.replace('World', 'Python')\n",
    "print(rep)\n",
    "# 문제 2_2) message = \"Hello, World!\"에서 Hello라는 단어의 길이를 출력하세요.\n",
    "print(len(message[0:5]))\n",
    "# 문제 2_3) 주어진 문자열이 대문자로 되어 있는지, 소문자로 되어 있는지 확인하고 그 결과를 출력하세요.\n",
    "s = 'HElLO'\n",
    "if s.isupper():\n",
    "    print(\"대문자\")\n",
    "elif s.islower():\n",
    "    print(\"소문자\")\n",
    "else:\n",
    "    print(\"둘 다\")\n",
    "    \n",
    "# 문제 3) 두 변수 x = 5와 y = 10이 있을 때, x가 y보다 작은지, 같은지, 큰지를 비교하고 결과를 출력하세요.\n",
    "x = 5\n",
    "y = 10\n",
    "if x>y:\n",
    "    print(\"x\")\n",
    "elif x<y:\n",
    "    print(\"y\")\n",
    "else:\n",
    "    print(\"같\")\n",
    "    \n",
    "# 문제 4_1) 주어진 리스트에서 첫 번째 값과 마지막 값을 출력하세요.\n",
    "li = [7, 2, 9, 4, 5]\n",
    "print(li[0], li[-1])\n",
    "# 문제 4_2) 리스트에 숫자 8을 추가하고, 전체 리스트를 출력하세요.\n",
    "li.append(8)\n",
    "print(li)\n",
    "# 문제 4_3) 주어진 리스트에서 첫 번째 값을 제거한 후 리스트를 출력하세요.\n",
    "abc = [\"apple\", \"banana\", \"cherry\"]\n",
    "abc.pop(0)\n",
    "print(abc)\n",
    "\n",
    "# 문제 5_1) 튜플 person = (\"John\", 25)에서 이름과 나이를 각각 출력하세요.\n",
    "man = (\"John\", 25)\n",
    "print(f\"이름 : {man[0]} 나이 : {man[1]}\")\n",
    "# 문제 5_2) 튜플을 리스트로 변환한 후, 그 리스트에 \"Engineer\"라는 직업을 추가한 후 출력하세요.\n",
    "mali = list(man)\n",
    "mali.append(\"Engineer\")\n",
    "print(mali)\n",
    "\n",
    "# 문제 6_1) 주어진 딕셔너리에서 \"Alice\"의 나이를 출력하세요.\n",
    "ages = {\"John\": 30, \"Alice\": 25, \"Bob\": 20}\n",
    "print(ages[\"Alice\"])\n",
    "# 문제 6_2) 딕셔너리에 \"David\": 23을 추가한 후 전체 딕셔너리를 출력하세요.\n",
    "ages[\"David\"] = 23 # 값 추가는 수정이랑 똑같\n",
    "print(ages)\n",
    "# 문제 6_3) 딕셔너리에서 모든 키를 출력하세요.\n",
    "print(ages.keys())"
   ]
  },
  {
   "cell_type": "code",
   "execution_count": 207,
   "metadata": {},
   "outputs": [
    {
     "name": "stdout",
     "output_type": "stream",
     "text": [
      "B학점\n",
      "홀수\n"
     ]
    }
   ],
   "source": [
    "# if문\n",
    "\n",
    "# if 조건식:\n",
    "#     실행문1\n",
    "# elif 조건식2:\n",
    "#     실행문2\n",
    "# else:\n",
    "#     실행문3\n",
    "\n",
    "sc = 80\n",
    "if sc >= 90:\n",
    "    print(\"A학점\")\n",
    "elif sc <= 80 :\n",
    "    print(\"B학점\")\n",
    "else:\n",
    "    print(\"C학점\")\n",
    "    \n",
    "po = 5\n",
    "if po % 2 ==0:\n",
    "    print(\"짝수\")\n",
    "else:\n",
    "    print(\"홀수\")"
   ]
  },
  {
   "cell_type": "code",
   "execution_count": 234,
   "metadata": {},
   "outputs": [
    {
     "name": "stdout",
     "output_type": "stream",
     "text": [
      "2\n",
      "4\n",
      "6\n",
      "8\n",
      "10\n",
      "현재 값: 3\n",
      "현재 값: 4\n",
      "현재 값: 5\n",
      "2 X 1 = 2\n",
      "2 X 2 = 4\n",
      "2 X 3 = 6\n",
      "2 X 4 = 8\n",
      "2 X 5 = 10\n",
      "2 X 6 = 12\n",
      "2 X 7 = 14\n",
      "2 X 8 = 16\n",
      "2 X 9 = 18\n",
      "인덱스 0: ['A', 'B', 'C']\n",
      "인덱스 1: ['A', 'B', 'C']\n",
      "인덱스 2: ['A', 'B', 'C']\n",
      "인덱스 0: A\n",
      "인덱스 1: B\n",
      "인덱스 2: C\n"
     ]
    }
   ],
   "source": [
    "#for문\n",
    "\n",
    "# 기본 for문\n",
    "for_test = [1, 2, 3, 4, 5]\n",
    "for num in for_test:        #for_test 데이터의 갯수 만큼 반복\n",
    "    print(num * 2)          # num에 for_test 주입 (num = for_test)\n",
    "\n",
    "# range()와 함께 사용 시\n",
    "for i in range(3, 6):       #range의 앞 수 ~ 뒷 수-1 까지 반복\n",
    "    print(f\"현재 값: {i}\")\n",
    "    \n",
    "# 중첩 for문(중첩 for문을 사용한 2, 3단)\n",
    "for o in range(2, 3):\n",
    "    for j in range(1, 10):\n",
    "        print(f\"{o} X {j} = {o*j}\")\n",
    "\n",
    "# enumerate를 적용한 for문\n",
    "it = [\"A\", \"B\", \"C\"]\n",
    "for idx, itq in enumerate(it):       # 인덱스와 값을 튜플 형태로 반환\n",
    "    print(f\"인덱스 {idx}: {it}\")\n",
    "\n",
    "te = len(it)\n",
    "for k in range(0, te):\n",
    "    print(f\"인덱스 {k}: {it[k]}\")\n"
   ]
  },
  {
   "cell_type": "code",
   "execution_count": 4,
   "metadata": {},
   "outputs": [
    {
     "name": "stdout",
     "output_type": "stream",
     "text": [
      "2\n",
      "4\n",
      "6\n",
      "8\n",
      "10\n"
     ]
    }
   ],
   "source": [
    "#while\n",
    "\n",
    "#기본 while문\n",
    "count = 0\n",
    "while count < 5:\n",
    "    print(f\"Count : {count}\")\n",
    "    count += 1\n",
    "    if count > 3:\n",
    "        break\n",
    "\n",
    "#조건 break 종료\n",
    "while True:\n",
    "    user_input = input(\"종료하려면 'exit' 입력 : \")\n",
    "    if user_input == 'exit':\n",
    "        print(\"종료\")\n",
    "        break\n",
    "\n",
    "#while else\n",
    "x = 5                   # 조건이 false가 되면 else 실행\n",
    "while x > 0:\n",
    "    print(x)\n",
    "    x -= 1\n",
    "else:\n",
    "    print(\"반복 종료\")\n",
    "    \n",
    "#break & continue 사용\n",
    "n = 0\n",
    "while n < 10:\n",
    "    n += 1\n",
    "    if not n % 2 == 0:\n",
    "        continue\n",
    "    print(n)\n",
    "    if n == 7:\n",
    "        break"
   ]
  }
 ],
 "metadata": {
  "kernelspec": {
   "display_name": ".venv",
   "language": "python",
   "name": "python3"
  },
  "language_info": {
   "codemirror_mode": {
    "name": "ipython",
    "version": 3
   },
   "file_extension": ".py",
   "mimetype": "text/x-python",
   "name": "python",
   "nbconvert_exporter": "python",
   "pygments_lexer": "ipython3",
   "version": "3.12.8"
  }
 },
 "nbformat": 4,
 "nbformat_minor": 2
}
