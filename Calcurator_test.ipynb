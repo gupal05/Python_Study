{
 "cells": [
  {
   "cell_type": "code",
   "execution_count": 26,
   "metadata": {},
   "outputs": [
    {
     "name": "stdout",
     "output_type": "stream",
     "text": [
      "1. 더하기  2. 빼기  3. 곱하기  4. 나누기\n",
      "더하기 선택\n",
      "50 + 30 = 80\n",
      "잘못된 입력입니다. Y 또는 N을 입력하세요.\n",
      "잘못된 입력입니다. Y 또는 N을 입력하세요.\n",
      "계산기를 종료합니다.\n"
     ]
    }
   ],
   "source": [
    "def cal(input, num1, num2):\n",
    "    if input == 1:\n",
    "        return f\"{num1} + {num2} = {num1 + num2}\"\n",
    "    elif input == 2:\n",
    "        return f\"{num1} - {num2} = {num1 - num2}\"\n",
    "    elif input == 3:\n",
    "        return f\"{num1} X {num2} = {num1 * num2}\"\n",
    "    elif input == 4:\n",
    "        if num2 == 0:\n",
    "            return \"오류: 0으로 나눌 수 없습니다.\"\n",
    "        else:\n",
    "            return f\"{num1} / {num2} = {num1 / num2}\"\n",
    "\n",
    "def calculator():\n",
    "    while True:\n",
    "        # 연산자 선택\n",
    "        print(\"1. 더하기  2. 빼기  3. 곱하기  4. 나누기\")\n",
    "        try:\n",
    "            userInput = int(input(\"연산자 선택: \"))\n",
    "            if userInput not in [1, 2, 3, 4]:\n",
    "                print(\"잘못된 입력입니다. 1~4 사이의 숫자를 입력하세요.\")\n",
    "                continue\n",
    "        except ValueError:\n",
    "            print(\"숫자를 입력하세요.\")\n",
    "            continue\n",
    "        \n",
    "        # 연산 종류 출력\n",
    "        operation = {1: \"더하기\", 2: \"빼기\", 3: \"곱하기\", 4: \"나누기\"}\n",
    "        print(f\"{operation[userInput]} 선택\")\n",
    "\n",
    "        # 숫자 입력\n",
    "        try:\n",
    "            num1 = int(input(\"첫번째 숫자 입력: \"))\n",
    "            num2 = int(input(\"두번째 숫자 입력: \"))\n",
    "        except ValueError:\n",
    "            print(\"숫자를 입력하세요.\")\n",
    "            continue\n",
    "\n",
    "        # 계산 결과 출력\n",
    "        result = cal(userInput, num1, num2)\n",
    "        print(result)\n",
    "\n",
    "        # 계속할지 여부 확인\n",
    "        while True:\n",
    "            exit_input = input(\"계속 하시겠습니까? (Y/N): \").upper()\n",
    "            if exit_input == \"Y\":\n",
    "                break\n",
    "            elif exit_input == \"N\":\n",
    "                print(\"계산기를 종료합니다.\")\n",
    "                return\n",
    "            else:\n",
    "                print(\"잘못된 입력입니다. Y 또는 N을 입력하세요.\")\n",
    "\n",
    "calculator()\n"
   ]
  }
 ],
 "metadata": {
  "kernelspec": {
   "display_name": ".venv",
   "language": "python",
   "name": "python3"
  },
  "language_info": {
   "codemirror_mode": {
    "name": "ipython",
    "version": 3
   },
   "file_extension": ".py",
   "mimetype": "text/x-python",
   "name": "python",
   "nbconvert_exporter": "python",
   "pygments_lexer": "ipython3",
   "version": "3.12.8"
  }
 },
 "nbformat": 4,
 "nbformat_minor": 2
}
