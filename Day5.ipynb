{
 "cells": [
  {
   "cell_type": "code",
   "execution_count": 12,
   "metadata": {},
   "outputs": [
    {
     "name": "stdout",
     "output_type": "stream",
     "text": [
      "안녕하세요 반갑습니다. 홍길동입니다.\n",
      "파이썬 with문 예시 \n",
      "\n"
     ]
    }
   ],
   "source": [
    "# with문\n",
    "# with문 블록이 끝나면 파일이나 리소스가 자동으로 닫힘(__exit__ 메서드 호출) 개발자가 직접 close()를 호출할 필요가 없음\n",
    "# with문 내부에서 예외가 발생해도 리소스 정리(close(), release())가 보장됨\n",
    "# 명시적으로 try-finally를 사용하지 않아도 되므로 코드가 더 깔끔해짐\n",
    "\n",
    "# file = open('dataset/human.txt', 'w')\n",
    "# try:\n",
    "#     file.write('안녕하세요 반갑습니다. 홍길동입니다.\\n')\n",
    "#     file.write('파이썬 with문 예시 \\n')\n",
    "# finally:\n",
    "#     file.close()\n",
    "\n",
    "# read_file = open('dataset/human.txt', 'r')\n",
    "# try:\n",
    "#     print(read_file.read())\n",
    "# finally:\n",
    "#     read_file.close()\n",
    "\n",
    "#위 코드를 with문을 사용하면 아래처럼 간결하게 작성 가능\n",
    "\n",
    "with open('dataset/human.txt', 'w') as f: # 'w' = 덮어쓰기, 'a' = 추가로 작성, 'r' = 읽기\n",
    "    f.write('안녕하세요 반갑습니다. 홍길동입니다.\\n')\n",
    "    f.write('파이썬 with문 예시 \\n')\n",
    "with open('dataset/human.txt', 'r') as k:\n",
    "    print(k.read())"
   ]
  },
  {
   "cell_type": "code",
   "execution_count": 13,
   "metadata": {},
   "outputs": [],
   "source": [
    "# Class\n",
    "# Class 속성 : 클래스 내부의 변수로, 객체가 가지는 데이터를 저장\n",
    "# Ex) self.name = name\n",
    "\n",
    "# 메서드 : 클래스 내부의 함수로 객체가 할 수 있는 행동을 정의\n",
    "# Ex) def greet(self):\n",
    "#       print(\"Hello!\")\n",
    "\n",
    "# 생성자 : _init_ 메서드는 객체 생성 시 자동으로 호출되어 초기화 작업을 함\n",
    "# Ex) def __init__(self, name, age):\n",
    "#       self.name = name\n",
    "#       self.age = age\n",
    "\n",
    "# 캡슐화 : 속성이나 메서드를 외부에서 직접 접근하지 못하도록 보호, 이름 앞에 밑줄 두개(__)를 붙이면 비공개(private) 속성/메서드가 됨\n",
    "# Ex) class Person:\n",
    "# def __init__(self, name, age):\n",
    "# self.__name = name # private 속성\n",
    "# self.age = age\n",
    "# def get_name(self):\n",
    "# return self.__name # private 속성에 접근하는 메서드"
   ]
  },
  {
   "cell_type": "code",
   "execution_count": 15,
   "metadata": {},
   "outputs": [
    {
     "name": "stdout",
     "output_type": "stream",
     "text": [
      "멍멍이가 짖습니다!\n"
     ]
    }
   ],
   "source": [
    "# Class 예제\n",
    "class Dog:\n",
    "#초기화 메서드 (생성자)\n",
    "    def __init__(self, name):\n",
    "        self.name = name # 인스턴스 변수\n",
    "    def bark(self):\n",
    "        print(f\"{self.name}가 짖습니다!\")\n",
    "# 객체 생성\n",
    "my_dog = Dog(\"멍멍이\")\n",
    "my_dog.bark() # 출력 : 멍멍이가 짖습니다!"
   ]
  },
  {
   "cell_type": "code",
   "execution_count": 18,
   "metadata": {},
   "outputs": [
    {
     "name": "stdout",
     "output_type": "stream",
     "text": [
      "나비\n",
      "나비가 야옹하고 웁니다.\n",
      "미야\n",
      "미야가 야옹하고 웁니다.\n"
     ]
    }
   ],
   "source": [
    "# Class 예제(상속)\n",
    "class Animal:\n",
    "    def __init__(self, name):\n",
    "        self.name = name\n",
    "    \n",
    "    def speak(self):\n",
    "        pass\n",
    "\n",
    "class Cat(Animal):      #Animal 클래스 상속\n",
    "    def speak(self):\n",
    "        return f\"{self.name}가 야옹하고 웁니다.\"\n",
    "    \n",
    "cat1 = Cat('나비')  #Cat 클래스의 인스턴스(객체) 생성\n",
    "print(cat1.name)    # 출력 : 나비\n",
    "print(cat1.speak())   # 출력 : 나비가 야옹하고 웁니다.\n",
    "\n",
    "cat2 = Cat(\"미야\")\n",
    "print(cat2.name)\n",
    "print(cat2.speak())"
   ]
  },
  {
   "cell_type": "code",
   "execution_count": 21,
   "metadata": {},
   "outputs": [
    {
     "name": "stdout",
     "output_type": "stream",
     "text": [
      "1000\n"
     ]
    }
   ],
   "source": [
    "# Class 예시(캡슐화)\n",
    "class BankAccount:\n",
    "    def __init__(self):\n",
    "        self.__balance = 0\n",
    "    \n",
    "    def deposit(self, amount):\n",
    "        if amount > 0:\n",
    "            self.__balance += amount\n",
    "    \n",
    "    def get_balance(self):\n",
    "        return self.__balance\n",
    "    \n",
    "account = BankAccount()\n",
    "account.deposit(1000)\n",
    "print(account.get_balance())"
   ]
  },
  {
   "cell_type": "code",
   "execution_count": 24,
   "metadata": {},
   "outputs": [
    {
     "name": "stdout",
     "output_type": "stream",
     "text": [
      "파이썬 고등학교\n",
      "파이썬 고등학교\n",
      "파이썬 고등학교\n",
      "2\n"
     ]
    }
   ],
   "source": [
    "# 클래스 변수와 인스턴스 변수 예제\n",
    "class Student:\n",
    "    school_name = \"파이썬 고등학교\" # 클래스 변수\n",
    "    student_count = 0 # 클래스 변수\n",
    "    def __init__(self, name):\n",
    "        self.name = name # 인스턴스 변수\n",
    "        Student.student_count += 1\n",
    "# 실행 예제\n",
    "student1 = Student(\"김철수\")\n",
    "student2 = Student(\"이영희\")\n",
    "print(Student.school_name) # 출력: 파이썬 고등학교\n",
    "print(student1.school_name) # 출력: 파이썬 고등학교\n",
    "print(student2.school_name) # 출력: 파이썬 고등학교\n",
    "print(Student.student_count) # 출력: 2"
   ]
  },
  {
   "cell_type": "code",
   "execution_count": 26,
   "metadata": {},
   "outputs": [
    {
     "name": "stdout",
     "output_type": "stream",
     "text": [
      "계산기를 초기화 합니다.\n",
      "덧셈 결과 :  30\n",
      "곱셈 결과 :  200\n"
     ]
    }
   ],
   "source": [
    "# 계산기 Class 예제\n",
    "class Calculator:\n",
    "    # 초기화 메서드 : 아무 상태 없이 계산만 수행\n",
    "    def __init__(self):\n",
    "        print(\"계산기를 초기화 합니다.\")\n",
    "        \n",
    "    # 두 숫자를 더하는 메서드\n",
    "    def add(self, a, b):\n",
    "        return a + b\n",
    "        \n",
    "    # 두 숫자를 곱하는 메서드\n",
    "    def multiply(self, a, b):\n",
    "        return a * b\n",
    "\n",
    "calc = Calculator()\n",
    "print(\"덧셈 결과 : \", calc.add(10, 20))\n",
    "print(\"곱셈 결과 : \", calc.multiply(10, 20))"
   ]
  },
  {
   "cell_type": "code",
   "execution_count": 28,
   "metadata": {},
   "outputs": [
    {
     "name": "stdout",
     "output_type": "stream",
     "text": [
      "이름 : 홍길동, 나이 : 16\n",
      "이름 : 김철수, 나이 : 18\n"
     ]
    }
   ],
   "source": [
    "# 학생정보 관리 Class\n",
    "class Student:\n",
    "    #생성자 : 학생 이름과 나이를 초기화\n",
    "    def __init__(self, name, age):\n",
    "        self.name = name\n",
    "        self.age = age\n",
    "    \n",
    "    # 학생 정보 출력 메서드\n",
    "    def display_info(self):\n",
    "        print(f\"이름 : {self.name}, 나이 : {self.age}\")\n",
    "        \n",
    "# 객체 생성 및 메서드 호출\n",
    "student1 = Student(\"홍길동\", 16)\n",
    "student2 = Student(\"김철수\", 18)\n",
    "\n",
    "student1.display_info()\n",
    "student2.display_info()"
   ]
  },
  {
   "cell_type": "code",
   "execution_count": 30,
   "metadata": {},
   "outputs": [
    {
     "name": "stdout",
     "output_type": "stream",
     "text": [
      "어벤져스 영화의 할인된 가격 : 10000원\n"
     ]
    }
   ],
   "source": [
    "# 영화 티켓 할인 class\n",
    "class MovieTicket:\n",
    "    # 생성자 : 영화 제목과 기본 티켓 가격 초기화\n",
    "    def __init__(self, title, price):\n",
    "        self.title = title\n",
    "        self.price = price\n",
    "    \n",
    "    # 할인 적용 메서드\n",
    "    def apply_discount(self, discount):\n",
    "        self.price -= discount\n",
    "        print(f\"{self.title} 영화의 할인된 가격 : {self.price}원\")\n",
    "        \n",
    "# 객체 생성 및 메서드 호출\n",
    "ticket = MovieTicket(\"어벤져스\", 12000) # __init__ 함수 파라미터로 전달?\n",
    "ticket.apply_discount(2000)"
   ]
  },
  {
   "cell_type": "code",
   "execution_count": 38,
   "metadata": {},
   "outputs": [
    {
     "name": "stdout",
     "output_type": "stream",
     "text": [
      "50000원이 입금되었습니다. 현재 잔액 : 150000원\n",
      "20000원이 출금되었습니다. 현재 잔액 : 130000원\n",
      "잔액이 부족합니다.\n"
     ]
    }
   ],
   "source": [
    "# 간단한 은행 계좌 클래스\n",
    "class BankAccount:\n",
    "    def __init__(self, owner, balance=0):\n",
    "        self.owner = owner\n",
    "        self.balance = balance\n",
    "    \n",
    "    # 입금\n",
    "    def deposit(self, amount):\n",
    "        self.balance += amount\n",
    "        print(f\"{amount}원이 입금되었습니다. 현재 잔액 : {self.balance}원\")\n",
    "        \n",
    "    # 출금\n",
    "    def withdraw(self, amount):\n",
    "        if amount > self.balance:\n",
    "            print(\"잔액이 부족합니다.\")\n",
    "        else:\n",
    "            self.balance -= amount\n",
    "            print(f\"{amount}원이 출금되었습니다. 현재 잔액 : {self.balance}원\")\n",
    "            \n",
    "# 사용 예시\n",
    "account = BankAccount(\"홍길동\", 100000) # BankAccount class로 이름, 잔액 전달\n",
    "account.deposit(50000)   # 출력 : 5000원이 입금되었습니다. 현재 잔액: 15000원\n",
    "account.withdraw(20000)  # 출력 : 20000원이 출금되었습니다. 현재 잔액: 13000원\n",
    "account.withdraw(200000)"
   ]
  },
  {
   "cell_type": "code",
   "execution_count": null,
   "metadata": {},
   "outputs": [],
   "source": []
  }
 ],
 "metadata": {
  "kernelspec": {
   "display_name": ".venv",
   "language": "python",
   "name": "python3"
  },
  "language_info": {
   "codemirror_mode": {
    "name": "ipython",
    "version": 3
   },
   "file_extension": ".py",
   "mimetype": "text/x-python",
   "name": "python",
   "nbconvert_exporter": "python",
   "pygments_lexer": "ipython3",
   "version": "3.12.8"
  }
 },
 "nbformat": 4,
 "nbformat_minor": 2
}
